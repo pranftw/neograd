{
 "cells": [
  {
   "cell_type": "code",
   "execution_count": 2,
   "metadata": {},
   "outputs": [],
   "source": [
    "# Execute when running on Google Colab\n",
    "!pip install neograd"
   ]
  },
  {
   "cell_type": "code",
   "execution_count": 1,
   "metadata": {},
   "outputs": [
    {
     "name": "stdout",
     "output_type": "stream",
     "text": [
      "Requirement already satisfied: matplotlib in /Users/pranavsastry/Documents/py/neograd/tests/venv/lib/python3.10/site-packages (3.6.1)\n",
      "Requirement already satisfied: kiwisolver>=1.0.1 in /Users/pranavsastry/Documents/py/neograd/tests/venv/lib/python3.10/site-packages (from matplotlib) (1.4.4)\n",
      "Requirement already satisfied: python-dateutil>=2.7 in /Users/pranavsastry/Documents/py/neograd/tests/venv/lib/python3.10/site-packages (from matplotlib) (2.8.2)\n",
      "Requirement already satisfied: contourpy>=1.0.1 in /Users/pranavsastry/Documents/py/neograd/tests/venv/lib/python3.10/site-packages (from matplotlib) (1.0.5)\n",
      "Requirement already satisfied: numpy>=1.19 in /Users/pranavsastry/Documents/py/neograd/tests/venv/lib/python3.10/site-packages (from matplotlib) (1.23.3)\n",
      "Requirement already satisfied: cycler>=0.10 in /Users/pranavsastry/Documents/py/neograd/tests/venv/lib/python3.10/site-packages (from matplotlib) (0.11.0)\n",
      "Requirement already satisfied: pyparsing>=2.2.1 in /Users/pranavsastry/Documents/py/neograd/tests/venv/lib/python3.10/site-packages (from matplotlib) (3.0.9)\n",
      "Requirement already satisfied: packaging>=20.0 in /Users/pranavsastry/Documents/py/neograd/tests/venv/lib/python3.10/site-packages (from matplotlib) (21.3)\n",
      "Requirement already satisfied: pillow>=6.2.0 in /Users/pranavsastry/Documents/py/neograd/tests/venv/lib/python3.10/site-packages (from matplotlib) (9.2.0)\n",
      "Requirement already satisfied: fonttools>=4.22.0 in /Users/pranavsastry/Documents/py/neograd/tests/venv/lib/python3.10/site-packages (from matplotlib) (4.37.4)\n",
      "Requirement already satisfied: six>=1.5 in /Users/pranavsastry/Documents/py/neograd/tests/venv/lib/python3.10/site-packages (from python-dateutil>=2.7->matplotlib) (1.16.0)\n",
      "\u001b[33mWARNING: You are using pip version 21.2.3; however, version 22.2.2 is available.\n",
      "You should consider upgrading via the '/Users/pranavsastry/Documents/py/neograd/tests/venv/bin/python3 -m pip install --upgrade pip' command.\u001b[0m\n"
     ]
    }
   ],
   "source": [
    "# Execute when running locally\n",
    "import sys\n",
    "sys.path.insert(0, '../tests')\n",
    "import _setup\n",
    "!pip install matplotlib\n",
    "import matplotlib.pyplot as plt"
   ]
  },
  {
   "cell_type": "code",
   "execution_count": 2,
   "metadata": {},
   "outputs": [],
   "source": [
    "import neograd as ng\n",
    "import numpy as np\n",
    "from neograd.nn.loss import SoftmaxCE\n",
    "from neograd.nn.optim import Adam\n",
    "from neograd.autograd.utils import grad_check\n",
    "from neograd.nn.utils import get_batches\n",
    "from sklearn.datasets import load_digits\n",
    "from sklearn.model_selection import train_test_split\n",
    "from sklearn.metrics import classification_report, accuracy_score"
   ]
  },
  {
   "cell_type": "code",
   "execution_count": 3,
   "metadata": {},
   "outputs": [],
   "source": [
    "X, y = load_digits(return_X_y=True) # load data\n",
    "X_train, X_test, y_train, y_test = train_test_split(X, y) # split data into train and test set"
   ]
  },
  {
   "cell_type": "code",
   "execution_count": 4,
   "metadata": {},
   "outputs": [],
   "source": [
    "num_train, num_test = X_train.shape[0], X_test.shape[0] # number of train and test examples\n",
    "num_iter = 200 # number of iterations\n",
    "batch_size = 200 # batch size in each iteration"
   ]
  },
  {
   "cell_type": "code",
   "execution_count": 5,
   "metadata": {},
   "outputs": [],
   "source": [
    "# normalize inputs\n",
    "X_train_norm = (X_train - np.mean(X_train, axis=1, keepdims=True))/np.std(X_train, axis=1, keepdims=True)\n",
    "X_test_norm = (X_test - np.mean(X_test, axis=1, keepdims=True))/np.std(X_test, axis=1, keepdims=True)"
   ]
  },
  {
   "cell_type": "code",
   "execution_count": 6,
   "metadata": {},
   "outputs": [],
   "source": [
    "# Convert normalized inputs and targets to Tensor\n",
    "X_train = ng.tensor(X_train_norm[:num_train,:].reshape(num_train,8,8))\n",
    "X_test = ng.tensor(X_test_norm[:num_test,:].reshape(num_test,8,8))\n",
    "y_train = ng.tensor(np.eye(10)[y_train[:num_train]])\n",
    "y_test = ng.tensor(y_test[:num_test])"
   ]
  },
  {
   "cell_type": "code",
   "execution_count": 7,
   "metadata": {},
   "outputs": [],
   "source": [
    "# Define the model\n",
    "class NN(ng.nn.Model):\n",
    "  def __init__(self):\n",
    "    self.conv = ng.nn.Sequential(\n",
    "      ng.nn.Conv2D((3,3)),\n",
    "      ng.nn.ReLU()\n",
    "    )\n",
    "    self.stack = ng.nn.Sequential(\n",
    "        ng.nn.Linear(36,10)\n",
    "    )\n",
    "\n",
    "  def forward(self, inputs):\n",
    "    conv_outputs = self.conv(inputs)\n",
    "    conv_outputs_flattened = conv_outputs.reshape((inputs.shape[0], 36))\n",
    "    return self.stack(conv_outputs_flattened)"
   ]
  },
  {
   "cell_type": "code",
   "execution_count": 8,
   "metadata": {},
   "outputs": [],
   "source": [
    "# configure the model\n",
    "model = NN()\n",
    "loss_fn = SoftmaxCE(axis=1)\n",
    "optim = Adam(model.get_params(), 5e-3)"
   ]
  },
  {
   "cell_type": "code",
   "execution_count": 9,
   "metadata": {},
   "outputs": [],
   "source": [
    "CHKPT_PATH = 'model_checkpoints'\n",
    "chkpt = ng.Checkpoint(model, CHKPT_PATH)"
   ]
  },
  {
   "cell_type": "code",
   "execution_count": 10,
   "metadata": {},
   "outputs": [
    {
     "name": "stdout",
     "output_type": "stream",
     "text": [
      "\n",
      "PARAMS SAVED at model_checkpoints/8cede7231f393aa5/ec3c69d3659e0a3b.hkl\n",
      "\n",
      "iter 1/200\n",
      "loss: 8.445636671511181\n",
      "\n",
      "\n",
      "PARAMS SAVED at model_checkpoints/8cede7231f393aa5/f8554a27b44033be.hkl\n",
      "\n",
      "iter 51/200\n",
      "loss: 0.6569712488731276\n",
      "\n",
      "\n",
      "PARAMS SAVED at model_checkpoints/8cede7231f393aa5/43743c18b8f4fcb9.hkl\n",
      "\n",
      "iter 101/200\n",
      "loss: 0.1779055641114179\n",
      "\n",
      "\n",
      "PARAMS SAVED at model_checkpoints/8cede7231f393aa5/6b0aa9f8138bec1a.hkl\n",
      "\n",
      "iter 151/200\n",
      "loss: 0.09356414221153893\n",
      "\n"
     ]
    }
   ],
   "source": [
    "# train the model\n",
    "for i in range(num_iter):\n",
    "  for batch_input, batch_target in get_batches(X_train, y_train, batch_size):\n",
    "    optim.zero_grad()\n",
    "    outputs = model(batch_input)\n",
    "    loss = loss_fn(outputs, batch_target)\n",
    "    loss.backward()\n",
    "    optim.step()\n",
    "  if i%50==0:\n",
    "    chkpt.add(\n",
    "      loss=loss.data.tolist(),\n",
    "      epoch=i\n",
    "    )\n",
    "    print(f\"iter {i+1}/{num_iter}\\nloss: {loss.data}\\n\")"
   ]
  },
  {
   "cell_type": "code",
   "execution_count": 11,
   "metadata": {},
   "outputs": [],
   "source": [
    "# evaluate the model\n",
    "with model.eval():\n",
    "  test_outputs = model(X_test)\n",
    "  probs = ng.nn.Softmax(1)(test_outputs.data)\n",
    "  preds = np.argmax(probs.data, axis=1)"
   ]
  },
  {
   "cell_type": "code",
   "execution_count": 12,
   "metadata": {},
   "outputs": [
    {
     "name": "stdout",
     "output_type": "stream",
     "text": [
      "              precision    recall  f1-score   support\n",
      "\n",
      "           0       1.00      0.95      0.97        41\n",
      "           1       0.91      0.97      0.94        40\n",
      "           2       0.96      0.98      0.97        47\n",
      "           3       0.92      0.92      0.92        37\n",
      "           4       0.90      0.98      0.94        55\n",
      "           5       0.94      0.96      0.95        50\n",
      "           6       0.95      0.97      0.96        37\n",
      "           7       0.95      0.88      0.91        48\n",
      "           8       0.82      0.84      0.83        44\n",
      "           9       0.98      0.86      0.92        51\n",
      "\n",
      "    accuracy                           0.93       450\n",
      "   macro avg       0.93      0.93      0.93       450\n",
      "weighted avg       0.93      0.93      0.93       450\n",
      "\n",
      "Accuracy: 0.9311111111111111\n"
     ]
    }
   ],
   "source": [
    "# get report\n",
    "report = classification_report(y_test.data.astype(int).flatten(), preds.flatten())\n",
    "print(report)\n",
    "accuracy = accuracy_score(y_test.data.astype(int).flatten(), preds.flatten())\n",
    "print('Accuracy:', accuracy)"
   ]
  },
  {
   "cell_type": "code",
   "execution_count": 13,
   "metadata": {},
   "outputs": [
    {
     "name": "stdout",
     "output_type": "stream",
     "text": [
      "0.9311111111111111\n"
     ]
    }
   ],
   "source": [
    "print(accuracy_score(y_test.data.astype(int).flatten(), preds.flatten()))"
   ]
  },
  {
   "cell_type": "code",
   "execution_count": 14,
   "metadata": {},
   "outputs": [
    {
     "name": "stdout",
     "output_type": "stream",
     "text": [
      "MODEL SAVED to model.pkl\n",
      "\n",
      "PARAMS SAVED at model_params.pkl\n",
      "\n",
      "MODEL LOADED from model.pkl\n",
      "\n",
      "PARAMS LOADED from model_params.pkl\n",
      "\n"
     ]
    }
   ],
   "source": [
    "# save the model\n",
    "ng.save('model.pkl', model)\n",
    "\n",
    "# save the parameters of the model\n",
    "model.save('model_params.pkl')\n",
    "\n",
    "# load the model\n",
    "model = ng.load('model.pkl')\n",
    "\n",
    "# load the parameters of the model\n",
    "model.load('model_params.pkl')"
   ]
  },
  {
   "cell_type": "code",
   "execution_count": 15,
   "metadata": {},
   "outputs": [],
   "source": [
    "# Display a grid of digits\n",
    "# num_rows>1 num_cols>1\n",
    "\n",
    "def plt_digits(num_rows, num_cols, data, label, predicted=None, print_vals=True, figsize=(6,6), h_pad=1, w_pad=0.5):\n",
    "  fig, axs = plt.subplots(num_rows, num_cols, figsize=figsize)\n",
    "  assert (num_rows*num_cols<=data.shape[0]) and (num_rows*num_cols<=label.shape[0])\n",
    "  if predicted is not None:\n",
    "    assert (num_rows*num_cols<=predicted.shape[0])\n",
    "  i=0\n",
    "  for ax in axs:\n",
    "    for j in range(num_cols):\n",
    "      ax[j].imshow(data[i], cmap='gray')\n",
    "      ax[j].axis('off')\n",
    "      if predicted is not None:\n",
    "          title = f'Actual: {label[i]}\\nPredicted: {predicted[i]}'\n",
    "      else:\n",
    "          title = f'Actual: {label[i]}'\n",
    "      if print_vals:\n",
    "          ax[j].set_title(title,fontsize=8)\n",
    "      i+=1\n",
    "  fig.tight_layout(w_pad=w_pad,h_pad=h_pad)\n",
    "  plt.show()"
   ]
  },
  {
   "cell_type": "code",
   "execution_count": 16,
   "metadata": {},
   "outputs": [
    {
     "data": {
      "image/png": "[encoded data removed]",
      "text/plain": [
       "<Figure size 600x600 with 25 Axes>"
      ]
     },
     "metadata": {},
     "output_type": "display_data"
    }
   ],
   "source": [
    "plt_digits(5,5,X_test.data,y_test.data.astype(int),preds)"
   ]
  },
  {
   "cell_type": "code",
   "execution_count": 17,
   "metadata": {},
   "outputs": [],
   "source": [
    "# save figs\n",
    "\n",
    "import random\n",
    "idxs = random.sample(range(0,X_test.shape[0]),10)\n",
    "assert list(set(idxs))!=idxs, 'There is repetition'\n",
    "for idx in idxs:\n",
    "    data = X_test.data[idx]\n",
    "    label = y_test.data.astype(int)[idx]\n",
    "    predicted = preds[idx]\n",
    "    title = f'Actual: {label}\\nPredicted: {predicted}'\n",
    "    plt.axis('off')\n",
    "    plt.title(title)\n",
    "    plt.imshow(data, cmap='gray')\n",
    "    plt.savefig(f'{idx}.png', bbox_inches='tight')"
   ]
  },
  {
   "cell_type": "code",
   "execution_count": null,
   "metadata": {},
   "outputs": [],
   "source": []
  }
 ],
 "metadata": {
  "kernelspec": {
   "display_name": "Python 3 (ipykernel)",
   "language": "python",
   "name": "python3"
  },
  "language_info": {
   "codemirror_mode": {
    "name": "ipython",
    "version": 3
   },
   "file_extension": ".py",
   "mimetype": "text/x-python",
   "name": "python",
   "nbconvert_exporter": "python",
   "pygments_lexer": "ipython3",
   "version": "3.10.0"
  }
 },
 "nbformat": 4,
 "nbformat_minor": 2
}
