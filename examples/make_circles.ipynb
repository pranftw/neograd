{
 "cells": [
  {
   "cell_type": "code",
   "execution_count": 1,
   "metadata": {
    "colab": {
     "base_uri": "https://localhost:8080/"
    },
    "id": "jtJ8MZZjgPs4",
    "outputId": "22739674-d756-49e4-a0bb-ab85bd96a3d8"
   },
   "outputs": [],
   "source": [
    "# Execute when running on Google Colab\n",
    "#!pip install neograd"
   ]
  },
  {
   "cell_type": "code",
   "execution_count": null,
   "metadata": {},
   "outputs": [],
   "source": [
    "# Execute when running locally\n",
    "# import sys\n",
    "# sys.path.insert(0, '../tests')\n",
    "# import _setup\n",
    "# !pip install matplotlib\n",
    "# import matplotlib.pyplot as plt"
   ]
  },
  {
   "cell_type": "code",
   "execution_count": 3,
   "metadata": {
    "id": "YMqWoNy7gXVJ"
   },
   "outputs": [],
   "source": [
    "import neograd as ng\n",
    "import numpy as np\n",
    "from neograd.nn.loss import BCE\n",
    "from neograd.nn.optim import Adam, Momentum, RMSProp, GD\n",
    "from neograd.autograd.utils import grad_check\n",
    "from sklearn.datasets import make_circles\n",
    "from sklearn.model_selection import train_test_split\n",
    "from sklearn.metrics import classification_report, accuracy_score"
   ]
  },
  {
   "cell_type": "code",
   "execution_count": 4,
   "metadata": {
    "id": "Cw6_DdrJghOl"
   },
   "outputs": [],
   "source": [
    "X, y = make_circles(n_samples=1000, noise=0.05, random_state=100)\n",
    "X_train_orig, X_test_orig, y_train_orig, y_test_orig = train_test_split(X,y)"
   ]
  },
  {
   "cell_type": "code",
   "execution_count": 5,
   "metadata": {},
   "outputs": [],
   "source": [
    "num_train = 750\n",
    "num_test = 250\n",
    "num_iter = 50"
   ]
  },
  {
   "cell_type": "code",
   "execution_count": 6,
   "metadata": {},
   "outputs": [],
   "source": [
    "X_train, X_test = ng.tensor(X_train_orig[:num_train,:]), ng.tensor(X_test_orig[:num_test,:])\n",
    "y_train, y_test = ng.tensor(y_train_orig[:num_train].reshape(num_train,1)), ng.tensor(y_test_orig[:num_test].reshape(num_test,1))"
   ]
  },
  {
   "cell_type": "code",
   "execution_count": 7,
   "metadata": {
    "id": "Q4yQ9VX8g0Sr"
   },
   "outputs": [],
   "source": [
    "class NN(ng.nn.Model):\n",
    "  def __init__(self):\n",
    "    self.stack = ng.nn.Sequential(\n",
    "      ng.nn.Linear(2,100),\n",
    "      ng.nn.ReLU(),\n",
    "      ng.nn.Linear(100,1),\n",
    "      ng.nn.Sigmoid()\n",
    "    )\n",
    "  \n",
    "  def forward(self, inputs):\n",
    "    return self.stack(inputs)"
   ]
  },
  {
   "cell_type": "code",
   "execution_count": 8,
   "metadata": {
    "id": "hfI2Ug1Bg587"
   },
   "outputs": [],
   "source": [
    "model = NN()\n",
    "loss_fn = BCE()\n",
    "optim = Adam(model.get_params(), 0.05)"
   ]
  },
  {
   "cell_type": "code",
   "execution_count": 9,
   "metadata": {
    "colab": {
     "base_uri": "https://localhost:8080/"
    },
    "id": "4KlRI-yVg8u8",
    "outputId": "85d0c9c4-e731-4fc5-e032-a3fe1ce7a186"
   },
   "outputs": [],
   "source": [
    "def train(optim, model=model, num_iter=num_iter, loss_list=None, print_freq=1, print_vals=False):\n",
    "  for i in range(num_iter):\n",
    "    optim.zero_grad()\n",
    "    outputs = model(X_train)\n",
    "    loss = loss_fn(outputs, y_train)\n",
    "    if loss_list is not None:\n",
    "      loss_list.append(loss.data)\n",
    "    loss.backward()\n",
    "    optim.step()\n",
    "    if i%print_freq==0 and print_vals:\n",
    "      print(f\"iter {i+1}/{num_iter}\\nloss: {loss}\\n\")"
   ]
  },
  {
   "cell_type": "code",
   "execution_count": 10,
   "metadata": {},
   "outputs": [
    {
     "name": "stdout",
     "output_type": "stream",
     "text": [
      "iter 1/50\n",
      "loss: Tensor( 10.573415001056283,\n",
      " requires_grad=True,\n",
      " grad_fn=None,\n",
      " shape=() )\n",
      "\n",
      "\n",
      "iter 2/50\n",
      "loss: Tensor( 9.999878049460742,\n",
      " requires_grad=True,\n",
      " grad_fn=None,\n",
      " shape=() )\n",
      "\n",
      "\n",
      "iter 3/50\n",
      "loss: Tensor( 9.503995618140651,\n",
      " requires_grad=True,\n",
      " grad_fn=None,\n",
      " shape=() )\n",
      "\n",
      "\n",
      "iter 4/50\n",
      "loss: Tensor( 8.970648294433975,\n",
      " requires_grad=True,\n",
      " grad_fn=None,\n",
      " shape=() )\n",
      "\n",
      "\n",
      "iter 5/50\n",
      "loss: Tensor( 9.125182818581274,\n",
      " requires_grad=True,\n",
      " grad_fn=None,\n",
      " shape=() )\n",
      "\n",
      "\n",
      "iter 6/50\n",
      "loss: Tensor( 8.49572467755151,\n",
      " requires_grad=True,\n",
      " grad_fn=None,\n",
      " shape=() )\n",
      "\n",
      "\n",
      "iter 7/50\n",
      "loss: Tensor( 8.384108871956048,\n",
      " requires_grad=True,\n",
      " grad_fn=None,\n",
      " shape=() )\n",
      "\n",
      "\n",
      "iter 8/50\n",
      "loss: Tensor( 8.336334098681508,\n",
      " requires_grad=True,\n",
      " grad_fn=None,\n",
      " shape=() )\n",
      "\n",
      "\n",
      "iter 9/50\n",
      "loss: Tensor( 7.789644554785993,\n",
      " requires_grad=True,\n",
      " grad_fn=None,\n",
      " shape=() )\n",
      "\n",
      "\n",
      "iter 10/50\n",
      "loss: Tensor( 7.432107005136127,\n",
      " requires_grad=True,\n",
      " grad_fn=None,\n",
      " shape=() )\n",
      "\n",
      "\n",
      "iter 11/50\n",
      "loss: Tensor( 7.2242398020762995,\n",
      " requires_grad=True,\n",
      " grad_fn=None,\n",
      " shape=() )\n",
      "\n",
      "\n",
      "iter 12/50\n",
      "loss: Tensor( 6.816440807113893,\n",
      " requires_grad=True,\n",
      " grad_fn=None,\n",
      " shape=() )\n",
      "\n",
      "\n",
      "iter 13/50\n",
      "loss: Tensor( 6.106588322398961,\n",
      " requires_grad=True,\n",
      " grad_fn=None,\n",
      " shape=() )\n",
      "\n",
      "\n",
      "iter 14/50\n",
      "loss: Tensor( 5.630303872941226,\n",
      " requires_grad=True,\n",
      " grad_fn=None,\n",
      " shape=() )\n",
      "\n",
      "\n",
      "iter 15/50\n",
      "loss: Tensor( 4.800065098997639,\n",
      " requires_grad=True,\n",
      " grad_fn=None,\n",
      " shape=() )\n",
      "\n",
      "\n",
      "iter 16/50\n",
      "loss: Tensor( 4.714435162296723,\n",
      " requires_grad=True,\n",
      " grad_fn=None,\n",
      " shape=() )\n",
      "\n",
      "\n",
      "iter 17/50\n",
      "loss: Tensor( 4.6690071375581095,\n",
      " requires_grad=True,\n",
      " grad_fn=None,\n",
      " shape=() )\n",
      "\n",
      "\n",
      "iter 18/50\n",
      "loss: Tensor( 4.359064652093703,\n",
      " requires_grad=True,\n",
      " grad_fn=None,\n",
      " shape=() )\n",
      "\n",
      "\n",
      "iter 19/50\n",
      "loss: Tensor( 4.21190144060918,\n",
      " requires_grad=True,\n",
      " grad_fn=None,\n",
      " shape=() )\n",
      "\n",
      "\n",
      "iter 20/50\n",
      "loss: Tensor( 3.8273390531970106,\n",
      " requires_grad=True,\n",
      " grad_fn=None,\n",
      " shape=() )\n",
      "\n",
      "\n",
      "iter 21/50\n",
      "loss: Tensor( 3.1690061406063537,\n",
      " requires_grad=True,\n",
      " grad_fn=None,\n",
      " shape=() )\n",
      "\n",
      "\n",
      "iter 22/50\n",
      "loss: Tensor( 3.160081952734212,\n",
      " requires_grad=True,\n",
      " grad_fn=None,\n",
      " shape=() )\n",
      "\n",
      "\n",
      "iter 23/50\n",
      "loss: Tensor( 3.0101573855107766,\n",
      " requires_grad=True,\n",
      " grad_fn=None,\n",
      " shape=() )\n",
      "\n",
      "\n",
      "iter 24/50\n",
      "loss: Tensor( 2.8681689544762774,\n",
      " requires_grad=True,\n",
      " grad_fn=None,\n",
      " shape=() )\n",
      "\n",
      "\n",
      "iter 25/50\n",
      "loss: Tensor( 2.869536193840458,\n",
      " requires_grad=True,\n",
      " grad_fn=None,\n",
      " shape=() )\n",
      "\n",
      "\n",
      "iter 26/50\n",
      "loss: Tensor( 2.710419446842978,\n",
      " requires_grad=True,\n",
      " grad_fn=None,\n",
      " shape=() )\n",
      "\n",
      "\n",
      "iter 27/50\n",
      "loss: Tensor( 2.3880500848185937,\n",
      " requires_grad=True,\n",
      " grad_fn=None,\n",
      " shape=() )\n",
      "\n",
      "\n",
      "iter 28/50\n",
      "loss: Tensor( 2.2693006852348256,\n",
      " requires_grad=True,\n",
      " grad_fn=None,\n",
      " shape=() )\n",
      "\n",
      "\n",
      "iter 29/50\n",
      "loss: Tensor( 2.2073522490998303,\n",
      " requires_grad=True,\n",
      " grad_fn=None,\n",
      " shape=() )\n",
      "\n",
      "\n",
      "iter 30/50\n",
      "loss: Tensor( 2.1027432268782618,\n",
      " requires_grad=True,\n",
      " grad_fn=None,\n",
      " shape=() )\n",
      "\n",
      "\n",
      "iter 31/50\n",
      "loss: Tensor( 2.0930925343086906,\n",
      " requires_grad=True,\n",
      " grad_fn=None,\n",
      " shape=() )\n",
      "\n",
      "\n",
      "iter 32/50\n",
      "loss: Tensor( 2.0721950404093787,\n",
      " requires_grad=True,\n",
      " grad_fn=None,\n",
      " shape=() )\n",
      "\n",
      "\n",
      "iter 33/50\n",
      "loss: Tensor( 1.9452461075209788,\n",
      " requires_grad=True,\n",
      " grad_fn=None,\n",
      " shape=() )\n",
      "\n",
      "\n",
      "iter 34/50\n",
      "loss: Tensor( 1.835838146689377,\n",
      " requires_grad=True,\n",
      " grad_fn=None,\n",
      " shape=() )\n",
      "\n",
      "\n",
      "iter 35/50\n",
      "loss: Tensor( 1.7724165629242676,\n",
      " requires_grad=True,\n",
      " grad_fn=None,\n",
      " shape=() )\n",
      "\n",
      "\n",
      "iter 36/50\n",
      "loss: Tensor( 1.7213859516666459,\n",
      " requires_grad=True,\n",
      " grad_fn=None,\n",
      " shape=() )\n",
      "\n",
      "\n",
      "iter 37/50\n",
      "loss: Tensor( 1.6571316860995018,\n",
      " requires_grad=True,\n",
      " grad_fn=None,\n",
      " shape=() )\n",
      "\n",
      "\n",
      "iter 38/50\n",
      "loss: Tensor( 1.6397313995362568,\n",
      " requires_grad=True,\n",
      " grad_fn=None,\n",
      " shape=() )\n",
      "\n",
      "\n",
      "iter 39/50\n",
      "loss: Tensor( 1.6116537534409139,\n",
      " requires_grad=True,\n",
      " grad_fn=None,\n",
      " shape=() )\n",
      "\n",
      "\n",
      "iter 40/50\n",
      "loss: Tensor( 1.5388690631064237,\n",
      " requires_grad=True,\n",
      " grad_fn=None,\n",
      " shape=() )\n",
      "\n",
      "\n",
      "iter 41/50\n",
      "loss: Tensor( 1.478751763503181,\n",
      " requires_grad=True,\n",
      " grad_fn=None,\n",
      " shape=() )\n",
      "\n",
      "\n",
      "iter 42/50\n",
      "loss: Tensor( 1.450253510236006,\n",
      " requires_grad=True,\n",
      " grad_fn=None,\n",
      " shape=() )\n",
      "\n",
      "\n",
      "iter 43/50\n",
      "loss: Tensor( 1.4084074989714281,\n",
      " requires_grad=True,\n",
      " grad_fn=None,\n",
      " shape=() )\n",
      "\n",
      "\n",
      "iter 44/50\n",
      "loss: Tensor( 1.3685382515799807,\n",
      " requires_grad=True,\n",
      " grad_fn=None,\n",
      " shape=() )\n",
      "\n",
      "\n",
      "iter 45/50\n",
      "loss: Tensor( 1.36764587135715,\n",
      " requires_grad=True,\n",
      " grad_fn=None,\n",
      " shape=() )\n",
      "\n",
      "\n",
      "iter 46/50\n",
      "loss: Tensor( 1.356860546892952,\n",
      " requires_grad=True,\n",
      " grad_fn=None,\n",
      " shape=() )\n",
      "\n",
      "\n",
      "iter 47/50\n",
      "loss: Tensor( 1.3292671395884248,\n",
      " requires_grad=True,\n",
      " grad_fn=None,\n",
      " shape=() )\n",
      "\n",
      "\n",
      "iter 48/50\n",
      "loss: Tensor( 1.3050517913143354,\n",
      " requires_grad=True,\n",
      " grad_fn=None,\n",
      " shape=() )\n",
      "\n",
      "\n",
      "iter 49/50\n",
      "loss: Tensor( 1.289565285266241,\n",
      " requires_grad=True,\n",
      " grad_fn=None,\n",
      " shape=() )\n",
      "\n",
      "\n",
      "iter 50/50\n",
      "loss: Tensor( 1.2628210663600647,\n",
      " requires_grad=True,\n",
      " grad_fn=None,\n",
      " shape=() )\n",
      "\n",
      "\n"
     ]
    }
   ],
   "source": [
    "train(optim, print_vals=True)"
   ]
  },
  {
   "cell_type": "code",
   "execution_count": 11,
   "metadata": {
    "id": "9K64ZO5QhDJe"
   },
   "outputs": [],
   "source": [
    "with model.eval():\n",
    "  test_outputs = model(X_test)\n",
    "  preds = np.where(test_outputs.data>=0.5, 1, 0)"
   ]
  },
  {
   "cell_type": "code",
   "execution_count": 12,
   "metadata": {
    "colab": {
     "base_uri": "https://localhost:8080/",
     "height": 71
    },
    "id": "L5N3g809mvuj",
    "outputId": "83e6588a-b78c-4d75-a6e4-cec8a371edeb"
   },
   "outputs": [
    {
     "name": "stdout",
     "output_type": "stream",
     "text": [
      "              precision    recall  f1-score   support\n",
      "\n",
      "           0       1.00      0.99      1.00       124\n",
      "           1       0.99      1.00      1.00       126\n",
      "\n",
      "    accuracy                           1.00       250\n",
      "   macro avg       1.00      1.00      1.00       250\n",
      "weighted avg       1.00      1.00      1.00       250\n",
      "\n"
     ]
    }
   ],
   "source": [
    "print(classification_report(y_test.data.astype(int).flatten(), preds.flatten()))"
   ]
  },
  {
   "cell_type": "code",
   "execution_count": 13,
   "metadata": {
    "colab": {
     "base_uri": "https://localhost:8080/"
    },
    "id": "XmGyjlSsnI5S",
    "outputId": "1bc2f3db-1c15-438f-e989-61114b0a4bdb"
   },
   "outputs": [
    {
     "name": "stdout",
     "output_type": "stream",
     "text": [
      "0.996\n"
     ]
    }
   ],
   "source": [
    "print(accuracy_score(y_test.data.astype(int).flatten(), preds.flatten()))"
   ]
  },
  {
   "cell_type": "code",
   "execution_count": 24,
   "metadata": {},
   "outputs": [],
   "source": [
    "adam_losses = []\n",
    "momentum_losses = []\n",
    "rms_losses = []\n",
    "gd_losses = []\n",
    "\n",
    "losses = [\n",
    "  adam_losses,\n",
    "  momentum_losses,\n",
    "  rms_losses,\n",
    "  gd_losses\n",
    "]"
   ]
  },
  {
   "cell_type": "code",
   "execution_count": 25,
   "metadata": {
    "id": "NQJRs3KnoqFl"
   },
   "outputs": [],
   "source": [
    "optims = [\n",
    "  Adam,\n",
    "  Momentum,\n",
    "  RMSProp,\n",
    "  GD\n",
    "]"
   ]
  },
  {
   "cell_type": "code",
   "execution_count": 26,
   "metadata": {},
   "outputs": [],
   "source": [
    "num_iter = 100"
   ]
  },
  {
   "cell_type": "code",
   "execution_count": 27,
   "metadata": {},
   "outputs": [],
   "source": [
    "for optim,loss_list in zip(optims, losses):\n",
    "  model = NN() # Resetting the model, to remove the previously learnt weights\n",
    "  train(optim(model.get_params(), 0.005), model=model, num_iter=num_iter, loss_list=loss_list)"
   ]
  },
  {
   "cell_type": "code",
   "execution_count": 28,
   "metadata": {},
   "outputs": [
    {
     "data": {
      "image/png": "[encoded data removed]",
      "text/plain": [
       "<Figure size 640x480 with 1 Axes>"
      ]
     },
     "metadata": {},
     "output_type": "display_data"
    }
   ],
   "source": [
    "plt.plot(np.arange(1, num_iter+1, 1), gd_losses, label='Gradient Descent')\n",
    "plt.plot(np.arange(1, num_iter+1, 1), rms_losses, label='RMSProp')\n",
    "plt.plot(np.arange(1, num_iter+1, 1), momentum_losses, label='Momentum')\n",
    "plt.plot(np.arange(1, num_iter+1, 1), adam_losses, label='Adam')\n",
    "plt.legend()\n",
    "plt.show()"
   ]
  },
  {
   "cell_type": "code",
   "execution_count": 29,
   "metadata": {},
   "outputs": [
    {
     "name": "stdout",
     "output_type": "stream",
     "text": [
      "Gradient Check Distance: 8.415739367777593e-08\n",
      "Gradient Check PASSED\n"
     ]
    },
    {
     "data": {
      "text/plain": [
       "8.415739367777593e-08"
      ]
     },
     "execution_count": 29,
     "metadata": {},
     "output_type": "execute_result"
    }
   ],
   "source": [
    "grad_check(model, X_train, y_train, loss_fn)"
   ]
  },
  {
   "cell_type": "code",
   "execution_count": null,
   "metadata": {},
   "outputs": [],
   "source": []
  }
 ],
 "metadata": {
  "colab": {
   "collapsed_sections": [],
   "provenance": []
  },
  "kernelspec": {
   "display_name": "Python 3 (ipykernel)",
   "language": "python",
   "name": "python3"
  },
  "language_info": {
   "codemirror_mode": {
    "name": "ipython",
    "version": 3
   },
   "file_extension": ".py",
   "mimetype": "text/x-python",
   "name": "python",
   "nbconvert_exporter": "python",
   "pygments_lexer": "ipython3",
   "version": "3.10.0"
  }
 },
 "nbformat": 4,
 "nbformat_minor": 1
}
