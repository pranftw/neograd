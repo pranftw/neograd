{
 "cells": [
  {
   "cell_type": "code",
   "execution_count": 1,
   "metadata": {
    "colab": {
     "base_uri": "https://localhost:8080/"
    },
    "id": "jtJ8MZZjgPs4",
    "outputId": "22739674-d756-49e4-a0bb-ab85bd96a3d8"
   },
   "outputs": [],
   "source": [
    "# Execute when running on Google Colab\n",
    "!pip install neograd"
   ]
  },
  {
   "cell_type": "code",
   "execution_count": 1,
   "metadata": {},
   "outputs": [
    {
     "name": "stdout",
     "output_type": "stream",
     "text": [
      "Requirement already satisfied: matplotlib in /Users/pranavsastry/Documents/py/neograd/tests/venv/lib/python3.10/site-packages (3.6.1)\n",
      "Requirement already satisfied: kiwisolver>=1.0.1 in /Users/pranavsastry/Documents/py/neograd/tests/venv/lib/python3.10/site-packages (from matplotlib) (1.4.4)\n",
      "Requirement already satisfied: fonttools>=4.22.0 in /Users/pranavsastry/Documents/py/neograd/tests/venv/lib/python3.10/site-packages (from matplotlib) (4.37.4)\n",
      "Requirement already satisfied: contourpy>=1.0.1 in /Users/pranavsastry/Documents/py/neograd/tests/venv/lib/python3.10/site-packages (from matplotlib) (1.0.5)\n",
      "Requirement already satisfied: packaging>=20.0 in /Users/pranavsastry/Documents/py/neograd/tests/venv/lib/python3.10/site-packages (from matplotlib) (21.3)\n",
      "Requirement already satisfied: cycler>=0.10 in /Users/pranavsastry/Documents/py/neograd/tests/venv/lib/python3.10/site-packages (from matplotlib) (0.11.0)\n",
      "Requirement already satisfied: pillow>=6.2.0 in /Users/pranavsastry/Documents/py/neograd/tests/venv/lib/python3.10/site-packages (from matplotlib) (9.2.0)\n",
      "Requirement already satisfied: python-dateutil>=2.7 in /Users/pranavsastry/Documents/py/neograd/tests/venv/lib/python3.10/site-packages (from matplotlib) (2.8.2)\n",
      "Requirement already satisfied: pyparsing>=2.2.1 in /Users/pranavsastry/Documents/py/neograd/tests/venv/lib/python3.10/site-packages (from matplotlib) (3.0.9)\n",
      "Requirement already satisfied: numpy>=1.19 in /Users/pranavsastry/Documents/py/neograd/tests/venv/lib/python3.10/site-packages (from matplotlib) (1.23.3)\n",
      "Requirement already satisfied: six>=1.5 in /Users/pranavsastry/Documents/py/neograd/tests/venv/lib/python3.10/site-packages (from python-dateutil>=2.7->matplotlib) (1.16.0)\n"
     ]
    }
   ],
   "source": [
    "# Execute when running locally\n",
    "import sys\n",
    "sys.path.insert(0, '../tests')\n",
    "import _setup\n",
    "!pip install matplotlib"
   ]
  },
  {
   "cell_type": "code",
   "execution_count": 2,
   "metadata": {
    "id": "YMqWoNy7gXVJ"
   },
   "outputs": [],
   "source": [
    "import neograd as ng\n",
    "from neograd import nn\n",
    "import numpy as np\n",
    "import matplotlib.pyplot as plt\n",
    "from neograd.nn.loss import BCE\n",
    "from neograd.nn.optim import Adam, Momentum, RMSProp, GD\n",
    "from neograd.autograd.utils import grad_check\n",
    "from sklearn.datasets import make_circles\n",
    "from sklearn.model_selection import train_test_split\n",
    "from sklearn.metrics import classification_report, accuracy_score"
   ]
  },
  {
   "cell_type": "code",
   "execution_count": 3,
   "metadata": {
    "id": "Cw6_DdrJghOl"
   },
   "outputs": [],
   "source": [
    "# load data\n",
    "X, y = make_circles(n_samples=1000, noise=0.05, random_state=100)\n",
    "X_train_orig, X_test_orig, y_train_orig, y_test_orig = train_test_split(X,y)"
   ]
  },
  {
   "cell_type": "code",
   "execution_count": 4,
   "metadata": {},
   "outputs": [],
   "source": [
    "num_train, num_test = 750, 250 # number of train and test examples\n",
    "num_iter = 50 # number of iterations"
   ]
  },
  {
   "cell_type": "code",
   "execution_count": 5,
   "metadata": {},
   "outputs": [],
   "source": [
    "# data as tensors\n",
    "X_train, X_test = ng.tensor(X_train_orig[:num_train,:]), ng.tensor(X_test_orig[:num_test,:])\n",
    "y_train, y_test = ng.tensor(y_train_orig[:num_train].reshape(num_train,1)), ng.tensor(y_test_orig[:num_test].reshape(num_test,1))"
   ]
  },
  {
   "cell_type": "code",
   "execution_count": 6,
   "metadata": {
    "id": "Q4yQ9VX8g0Sr"
   },
   "outputs": [],
   "source": [
    "# define the model\n",
    "class NN(nn.Model):\n",
    "  def __init__(self):\n",
    "    self.stack = nn.Sequential(\n",
    "      nn.Linear(2,100),\n",
    "      nn.ReLU(),\n",
    "      nn.Linear(100,1),\n",
    "      nn.Sigmoid()\n",
    "    )\n",
    "  \n",
    "  def forward(self, inputs):\n",
    "    return self.stack(inputs)"
   ]
  },
  {
   "cell_type": "code",
   "execution_count": 7,
   "metadata": {
    "id": "hfI2Ug1Bg587"
   },
   "outputs": [],
   "source": [
    "# configure the model\n",
    "model = NN()\n",
    "loss_fn = BCE()\n",
    "optim = Adam(model.parameters(), 0.05)"
   ]
  },
  {
   "cell_type": "code",
   "execution_count": 8,
   "metadata": {
    "colab": {
     "base_uri": "https://localhost:8080/"
    },
    "id": "4KlRI-yVg8u8",
    "outputId": "85d0c9c4-e731-4fc5-e032-a3fe1ce7a186"
   },
   "outputs": [],
   "source": [
    "# training loop\n",
    "def train(optim, model=model, num_iter=num_iter, loss_list=None, print_freq=1, print_vals=False):\n",
    "  for i in range(num_iter):\n",
    "    optim.zero_grad()\n",
    "    outputs = model(X_train)\n",
    "    loss = loss_fn(outputs, y_train)\n",
    "    if loss_list is not None:\n",
    "      loss_list.append(loss.data)\n",
    "    loss.backward()\n",
    "    optim.step()\n",
    "    if i%print_freq==0 and print_vals:\n",
    "      print(f\"iter {i+1}/{num_iter}\\nloss: {loss}\\n\")"
   ]
  },
  {
   "cell_type": "code",
   "execution_count": 9,
   "metadata": {},
   "outputs": [
    {
     "name": "stdout",
     "output_type": "stream",
     "text": [
      "iter 1/50\n",
      "loss: Tensor( 10.375041324696683,\n",
      " requires_grad=True,\n",
      " grad_fn=None,\n",
      " shape=() )\n",
      "\n",
      "\n",
      "iter 2/50\n",
      "loss: Tensor( 9.95229364806325,\n",
      " requires_grad=True,\n",
      " grad_fn=None,\n",
      " shape=() )\n",
      "\n",
      "\n",
      "iter 3/50\n",
      "loss: Tensor( 9.305371212087985,\n",
      " requires_grad=True,\n",
      " grad_fn=None,\n",
      " shape=() )\n",
      "\n",
      "\n",
      "iter 4/50\n",
      "loss: Tensor( 8.530347542083124,\n",
      " requires_grad=True,\n",
      " grad_fn=None,\n",
      " shape=() )\n",
      "\n",
      "\n",
      "iter 5/50\n",
      "loss: Tensor( 7.793013737425169,\n",
      " requires_grad=True,\n",
      " grad_fn=None,\n",
      " shape=() )\n",
      "\n",
      "\n",
      "iter 6/50\n",
      "loss: Tensor( 7.494472125188238,\n",
      " requires_grad=True,\n",
      " grad_fn=None,\n",
      " shape=() )\n",
      "\n",
      "\n",
      "iter 7/50\n",
      "loss: Tensor( 6.516697756208862,\n",
      " requires_grad=True,\n",
      " grad_fn=None,\n",
      " shape=() )\n",
      "\n",
      "\n",
      "iter 8/50\n",
      "loss: Tensor( 6.32313752073407,\n",
      " requires_grad=True,\n",
      " grad_fn=None,\n",
      " shape=() )\n",
      "\n",
      "\n",
      "iter 9/50\n",
      "loss: Tensor( 6.150462061130169,\n",
      " requires_grad=True,\n",
      " grad_fn=None,\n",
      " shape=() )\n",
      "\n",
      "\n",
      "iter 10/50\n",
      "loss: Tensor( 5.431434810674195,\n",
      " requires_grad=True,\n",
      " grad_fn=None,\n",
      " shape=() )\n",
      "\n",
      "\n",
      "iter 11/50\n",
      "loss: Tensor( 5.410646525373859,\n",
      " requires_grad=True,\n",
      " grad_fn=None,\n",
      " shape=() )\n",
      "\n",
      "\n",
      "iter 12/50\n",
      "loss: Tensor( 5.181898235545916,\n",
      " requires_grad=True,\n",
      " grad_fn=None,\n",
      " shape=() )\n",
      "\n",
      "\n",
      "iter 13/50\n",
      "loss: Tensor( 4.830447795919052,\n",
      " requires_grad=True,\n",
      " grad_fn=None,\n",
      " shape=() )\n",
      "\n",
      "\n",
      "iter 14/50\n",
      "loss: Tensor( 4.475291324946961,\n",
      " requires_grad=True,\n",
      " grad_fn=None,\n",
      " shape=() )\n",
      "\n",
      "\n",
      "iter 15/50\n",
      "loss: Tensor( 4.446801698848686,\n",
      " requires_grad=True,\n",
      " grad_fn=None,\n",
      " shape=() )\n",
      "\n",
      "\n",
      "iter 16/50\n",
      "loss: Tensor( 4.300486357609986,\n",
      " requires_grad=True,\n",
      " grad_fn=None,\n",
      " shape=() )\n",
      "\n",
      "\n",
      "iter 17/50\n",
      "loss: Tensor( 3.826620786389023,\n",
      " requires_grad=True,\n",
      " grad_fn=None,\n",
      " shape=() )\n",
      "\n",
      "\n",
      "iter 18/50\n",
      "loss: Tensor( 3.8432305766242254,\n",
      " requires_grad=True,\n",
      " grad_fn=None,\n",
      " shape=() )\n",
      "\n",
      "\n",
      "iter 19/50\n",
      "loss: Tensor( 3.7769371146112714,\n",
      " requires_grad=True,\n",
      " grad_fn=None,\n",
      " shape=() )\n",
      "\n",
      "\n",
      "iter 20/50\n",
      "loss: Tensor( 3.366453859010538,\n",
      " requires_grad=True,\n",
      " grad_fn=None,\n",
      " shape=() )\n",
      "\n",
      "\n",
      "iter 21/50\n",
      "loss: Tensor( 3.231191559561563,\n",
      " requires_grad=True,\n",
      " grad_fn=None,\n",
      " shape=() )\n",
      "\n",
      "\n",
      "iter 22/50\n",
      "loss: Tensor( 3.248403700090191,\n",
      " requires_grad=True,\n",
      " grad_fn=None,\n",
      " shape=() )\n",
      "\n",
      "\n",
      "iter 23/50\n",
      "loss: Tensor( 3.034051221779514,\n",
      " requires_grad=True,\n",
      " grad_fn=None,\n",
      " shape=() )\n",
      "\n",
      "\n",
      "iter 24/50\n",
      "loss: Tensor( 2.83648409356204,\n",
      " requires_grad=True,\n",
      " grad_fn=None,\n",
      " shape=() )\n",
      "\n",
      "\n",
      "iter 25/50\n",
      "loss: Tensor( 2.814831474097937,\n",
      " requires_grad=True,\n",
      " grad_fn=None,\n",
      " shape=() )\n",
      "\n",
      "\n",
      "iter 26/50\n",
      "loss: Tensor( 2.759070898819887,\n",
      " requires_grad=True,\n",
      " grad_fn=None,\n",
      " shape=() )\n",
      "\n",
      "\n",
      "iter 27/50\n",
      "loss: Tensor( 2.546116144032628,\n",
      " requires_grad=True,\n",
      " grad_fn=None,\n",
      " shape=() )\n",
      "\n",
      "\n",
      "iter 28/50\n",
      "loss: Tensor( 2.4766399951131577,\n",
      " requires_grad=True,\n",
      " grad_fn=None,\n",
      " shape=() )\n",
      "\n",
      "\n",
      "iter 29/50\n",
      "loss: Tensor( 2.460367159383321,\n",
      " requires_grad=True,\n",
      " grad_fn=None,\n",
      " shape=() )\n",
      "\n",
      "\n",
      "iter 30/50\n",
      "loss: Tensor( 2.3391331216415097,\n",
      " requires_grad=True,\n",
      " grad_fn=None,\n",
      " shape=() )\n",
      "\n",
      "\n",
      "iter 31/50\n",
      "loss: Tensor( 2.2310373262201675,\n",
      " requires_grad=True,\n",
      " grad_fn=None,\n",
      " shape=() )\n",
      "\n",
      "\n",
      "iter 32/50\n",
      "loss: Tensor( 2.1819225082408575,\n",
      " requires_grad=True,\n",
      " grad_fn=None,\n",
      " shape=() )\n",
      "\n",
      "\n",
      "iter 33/50\n",
      "loss: Tensor( 2.1367426460591075,\n",
      " requires_grad=True,\n",
      " grad_fn=None,\n",
      " shape=() )\n",
      "\n",
      "\n",
      "iter 34/50\n",
      "loss: Tensor( 2.0511860483730047,\n",
      " requires_grad=True,\n",
      " grad_fn=None,\n",
      " shape=() )\n",
      "\n",
      "\n",
      "iter 35/50\n",
      "loss: Tensor( 1.9693769588425105,\n",
      " requires_grad=True,\n",
      " grad_fn=None,\n",
      " shape=() )\n",
      "\n",
      "\n",
      "iter 36/50\n",
      "loss: Tensor( 1.947494290832321,\n",
      " requires_grad=True,\n",
      " grad_fn=None,\n",
      " shape=() )\n",
      "\n",
      "\n",
      "iter 37/50\n",
      "loss: Tensor( 1.9047010747814648,\n",
      " requires_grad=True,\n",
      " grad_fn=None,\n",
      " shape=() )\n",
      "\n",
      "\n",
      "iter 38/50\n",
      "loss: Tensor( 1.8360603713655927,\n",
      " requires_grad=True,\n",
      " grad_fn=None,\n",
      " shape=() )\n",
      "\n",
      "\n",
      "iter 39/50\n",
      "loss: Tensor( 1.7883028157940966,\n",
      " requires_grad=True,\n",
      " grad_fn=None,\n",
      " shape=() )\n",
      "\n",
      "\n",
      "iter 40/50\n",
      "loss: Tensor( 1.7642399527135109,\n",
      " requires_grad=True,\n",
      " grad_fn=None,\n",
      " shape=() )\n",
      "\n",
      "\n",
      "iter 41/50\n",
      "loss: Tensor( 1.7278419204885254,\n",
      " requires_grad=True,\n",
      " grad_fn=None,\n",
      " shape=() )\n",
      "\n",
      "\n",
      "iter 42/50\n",
      "loss: Tensor( 1.6667739001728707,\n",
      " requires_grad=True,\n",
      " grad_fn=None,\n",
      " shape=() )\n",
      "\n",
      "\n",
      "iter 43/50\n",
      "loss: Tensor( 1.6388502631223205,\n",
      " requires_grad=True,\n",
      " grad_fn=None,\n",
      " shape=() )\n",
      "\n",
      "\n",
      "iter 44/50\n",
      "loss: Tensor( 1.6200589612495766,\n",
      " requires_grad=True,\n",
      " grad_fn=None,\n",
      " shape=() )\n",
      "\n",
      "\n",
      "iter 45/50\n",
      "loss: Tensor( 1.5793766503642976,\n",
      " requires_grad=True,\n",
      " grad_fn=None,\n",
      " shape=() )\n",
      "\n",
      "\n",
      "iter 46/50\n",
      "loss: Tensor( 1.5424390042514642,\n",
      " requires_grad=True,\n",
      " grad_fn=None,\n",
      " shape=() )\n",
      "\n",
      "\n",
      "iter 47/50\n",
      "loss: Tensor( 1.5207133120641332,\n",
      " requires_grad=True,\n",
      " grad_fn=None,\n",
      " shape=() )\n",
      "\n",
      "\n",
      "iter 48/50\n",
      "loss: Tensor( 1.501320230641786,\n",
      " requires_grad=True,\n",
      " grad_fn=None,\n",
      " shape=() )\n",
      "\n",
      "\n",
      "iter 49/50\n",
      "loss: Tensor( 1.4704178585038767,\n",
      " requires_grad=True,\n",
      " grad_fn=None,\n",
      " shape=() )\n",
      "\n",
      "\n",
      "iter 50/50\n",
      "loss: Tensor( 1.4409533356886994,\n",
      " requires_grad=True,\n",
      " grad_fn=None,\n",
      " shape=() )\n",
      "\n",
      "\n"
     ]
    }
   ],
   "source": [
    "train(optim, print_vals=True)"
   ]
  },
  {
   "cell_type": "code",
   "execution_count": 10,
   "metadata": {
    "id": "9K64ZO5QhDJe"
   },
   "outputs": [],
   "source": [
    "# evaluate the model\n",
    "with model.eval():\n",
    "  test_outputs = model(X_test)\n",
    "  preds = np.where(test_outputs.data>=0.5, 1, 0)"
   ]
  },
  {
   "cell_type": "code",
   "execution_count": 11,
   "metadata": {
    "colab": {
     "base_uri": "https://localhost:8080/",
     "height": 71
    },
    "id": "L5N3g809mvuj",
    "outputId": "83e6588a-b78c-4d75-a6e4-cec8a371edeb"
   },
   "outputs": [
    {
     "name": "stdout",
     "output_type": "stream",
     "text": [
      "              precision    recall  f1-score   support\n",
      "\n",
      "           0       0.99      0.99      0.99       117\n",
      "           1       0.99      0.99      0.99       133\n",
      "\n",
      "    accuracy                           0.99       250\n",
      "   macro avg       0.99      0.99      0.99       250\n",
      "weighted avg       0.99      0.99      0.99       250\n",
      "\n"
     ]
    }
   ],
   "source": [
    "print(classification_report(y_test.data.astype(int).flatten(), preds.flatten()))"
   ]
  },
  {
   "cell_type": "code",
   "execution_count": 12,
   "metadata": {
    "colab": {
     "base_uri": "https://localhost:8080/"
    },
    "id": "XmGyjlSsnI5S",
    "outputId": "1bc2f3db-1c15-438f-e989-61114b0a4bdb"
   },
   "outputs": [
    {
     "name": "stdout",
     "output_type": "stream",
     "text": [
      "0.992\n"
     ]
    }
   ],
   "source": [
    "print(accuracy_score(y_test.data.astype(int).flatten(), preds.flatten()))"
   ]
  },
  {
   "cell_type": "markdown",
   "metadata": {},
   "source": [
    "## Compare different optimizers"
   ]
  },
  {
   "cell_type": "code",
   "execution_count": 13,
   "metadata": {},
   "outputs": [],
   "source": [
    "adam_losses = []\n",
    "momentum_losses = []\n",
    "rms_losses = []\n",
    "gd_losses = []\n",
    "\n",
    "losses = [\n",
    "  adam_losses,\n",
    "  momentum_losses,\n",
    "  rms_losses,\n",
    "  gd_losses\n",
    "]"
   ]
  },
  {
   "cell_type": "code",
   "execution_count": 14,
   "metadata": {
    "id": "NQJRs3KnoqFl"
   },
   "outputs": [],
   "source": [
    "optims = [\n",
    "  Adam,\n",
    "  Momentum,\n",
    "  RMSProp,\n",
    "  GD\n",
    "]"
   ]
  },
  {
   "cell_type": "code",
   "execution_count": 15,
   "metadata": {},
   "outputs": [],
   "source": [
    "num_iter = 100"
   ]
  },
  {
   "cell_type": "code",
   "execution_count": 16,
   "metadata": {},
   "outputs": [],
   "source": [
    "for optim,loss_list in zip(optims, losses):\n",
    "  model = NN() # Resetting the model, to remove the previously learnt weights\n",
    "  train(optim(model.parameters(), 0.005), model=model, num_iter=num_iter, loss_list=loss_list)"
   ]
  },
  {
   "cell_type": "code",
   "execution_count": 17,
   "metadata": {},
   "outputs": [
    {
     "data": {
      "image/png": "[encoded data removed]",
      "text/plain": [
       "<Figure size 640x480 with 1 Axes>"
      ]
     },
     "metadata": {},
     "output_type": "display_data"
    }
   ],
   "source": [
    "plt.plot(np.arange(1, num_iter+1, 1), gd_losses, label='Gradient Descent')\n",
    "plt.plot(np.arange(1, num_iter+1, 1), rms_losses, label='RMSProp')\n",
    "plt.plot(np.arange(1, num_iter+1, 1), momentum_losses, label='Momentum')\n",
    "plt.plot(np.arange(1, num_iter+1, 1), adam_losses, label='Adam')\n",
    "plt.legend()\n",
    "plt.show()"
   ]
  },
  {
   "cell_type": "code",
   "execution_count": 29,
   "metadata": {},
   "outputs": [
    {
     "name": "stdout",
     "output_type": "stream",
     "text": [
      "Gradient Check Distance: 8.415739367777593e-08\n",
      "Gradient Check PASSED\n"
     ]
    },
    {
     "data": {
      "text/plain": [
       "8.415739367777593e-08"
      ]
     },
     "execution_count": 29,
     "metadata": {},
     "output_type": "execute_result"
    }
   ],
   "source": [
    "grad_check(model, X_train, y_train, loss_fn)"
   ]
  },
  {
   "cell_type": "code",
   "execution_count": null,
   "metadata": {},
   "outputs": [],
   "source": []
  }
 ],
 "metadata": {
  "colab": {
   "collapsed_sections": [],
   "provenance": []
  },
  "kernelspec": {
   "display_name": "Python 3 (ipykernel)",
   "language": "python",
   "name": "python3"
  },
  "language_info": {
   "codemirror_mode": {
    "name": "ipython",
    "version": 3
   },
   "file_extension": ".py",
   "mimetype": "text/x-python",
   "name": "python",
   "nbconvert_exporter": "python",
   "pygments_lexer": "ipython3",
   "version": "3.10.8"
  }
 },
 "nbformat": 4,
 "nbformat_minor": 1
}
