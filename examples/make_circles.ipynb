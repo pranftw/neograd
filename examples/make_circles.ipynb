{
  "nbformat": 4,
  "nbformat_minor": 0,
  "metadata": {
    "colab": {
      "provenance": [],
      "collapsed_sections": []
    },
    "kernelspec": {
      "name": "python3",
      "display_name": "Python 3"
    },
    "language_info": {
      "name": "python"
    }
  },
  "cells": [
    {
      "cell_type": "code",
      "execution_count": 1,
      "metadata": {
        "colab": {
          "base_uri": "https://localhost:8080/"
        },
        "id": "jtJ8MZZjgPs4",
        "outputId": "22739674-d756-49e4-a0bb-ab85bd96a3d8"
      },
      "outputs": [
        {
          "output_type": "stream",
          "name": "stdout",
          "text": [
            "Looking in indexes: https://pypi.org/simple, https://us-python.pkg.dev/colab-wheels/public/simple/\n",
            "Requirement already satisfied: neograd in /usr/local/lib/python3.7/dist-packages (0.0.1)\n",
            "Requirement already satisfied: numpy in /usr/local/lib/python3.7/dist-packages (from neograd) (1.21.6)\n"
          ]
        }
      ],
      "source": [
        "!pip install neograd"
      ]
    },
    {
      "cell_type": "code",
      "source": [
        "import neograd as ng\n",
        "import numpy as np\n",
        "from neograd.nn.loss import BCE\n",
        "from neograd.nn.optim import GD\n",
        "from sklearn.datasets import make_circles\n",
        "from sklearn.model_selection import train_test_split\n",
        "from sklearn.metrics import classification_report, accuracy_score\n",
        "import matplotlib.pyplot as plt"
      ],
      "metadata": {
        "id": "YMqWoNy7gXVJ"
      },
      "execution_count": 2,
      "outputs": []
    },
    {
      "cell_type": "code",
      "source": [
        "X, y = make_circles(n_samples=1000, noise=0.05, random_state=100)\n",
        "X_train, X_test, y_train, y_test = train_test_split(X,y)\n",
        "\n",
        "X_train, X_test = ng.tensor(X_train.T), ng.tensor(X_test.T)\n",
        "y_train, y_test = ng.tensor(y_train.T.reshape(1,750)), ng.tensor(y_test.T.reshape(1,250))"
      ],
      "metadata": {
        "id": "Cw6_DdrJghOl"
      },
      "execution_count": 3,
      "outputs": []
    },
    {
      "cell_type": "code",
      "source": [
        "class NN(ng.nn.Model):\n",
        "  def __init__(self):\n",
        "    super().__init__(self)\n",
        "    self.stack = ng.nn.Sequential(\n",
        "      ng.nn.Linear(2,100),\n",
        "      ng.nn.ReLU(),\n",
        "      ng.nn.Linear(100,1),\n",
        "      ng.nn.Sigmoid()\n",
        "    )\n",
        "  \n",
        "  def forward(self, inputs):\n",
        "    return self.stack(inputs)"
      ],
      "metadata": {
        "id": "Q4yQ9VX8g0Sr"
      },
      "execution_count": 4,
      "outputs": []
    },
    {
      "cell_type": "code",
      "source": [
        "model = NN()\n",
        "loss_fn = BCE()\n",
        "optim = GD(model.get_params(), 0.15)"
      ],
      "metadata": {
        "id": "hfI2Ug1Bg587"
      },
      "execution_count": 5,
      "outputs": []
    },
    {
      "cell_type": "code",
      "source": [
        "num_iter = 1000"
      ],
      "metadata": {
        "id": "5Ahte5TWhA8l"
      },
      "execution_count": 6,
      "outputs": []
    },
    {
      "cell_type": "code",
      "source": [
        "losses = []\n",
        "\n",
        "for iter in range(num_iter):\n",
        "  optim.zero_grad()\n",
        "  outputs = model(X_train)\n",
        "  loss = loss_fn(outputs, y_train)\n",
        "  losses.append(loss.data)\n",
        "  loss.backward()\n",
        "  optim.step()\n",
        "  if iter%50==0:\n",
        "    print(f\"iter {iter+1}/{num_iter}\\nloss: {loss}\\n\")"
      ],
      "metadata": {
        "colab": {
          "base_uri": "https://localhost:8080/"
        },
        "id": "4KlRI-yVg8u8",
        "outputId": "85d0c9c4-e731-4fc5-e032-a3fe1ce7a186"
      },
      "execution_count": 7,
      "outputs": [
        {
          "output_type": "stream",
          "name": "stdout",
          "text": [
            "iter 1/1000\n",
            "loss: Tensor( 5.896141929962739,\n",
            " requires_grad=True,\n",
            " grad_fn=None,\n",
            " shape=() )\n",
            "\n",
            "\n",
            "iter 51/1000\n",
            "loss: Tensor( 4.885552326445531,\n",
            " requires_grad=True,\n",
            " grad_fn=None,\n",
            " shape=() )\n",
            "\n",
            "\n",
            "iter 101/1000\n",
            "loss: Tensor( 5.531412747104856,\n",
            " requires_grad=True,\n",
            " grad_fn=None,\n",
            " shape=() )\n",
            "\n",
            "\n",
            "iter 151/1000\n",
            "loss: Tensor( 3.2629299253110973,\n",
            " requires_grad=True,\n",
            " grad_fn=None,\n",
            " shape=() )\n",
            "\n",
            "\n",
            "iter 201/1000\n",
            "loss: Tensor( 2.754733436786742,\n",
            " requires_grad=True,\n",
            " grad_fn=None,\n",
            " shape=() )\n",
            "\n",
            "\n",
            "iter 251/1000\n",
            "loss: Tensor( 2.477047490037707,\n",
            " requires_grad=True,\n",
            " grad_fn=None,\n",
            " shape=() )\n",
            "\n",
            "\n",
            "iter 301/1000\n",
            "loss: Tensor( 1.7645760434217208,\n",
            " requires_grad=True,\n",
            " grad_fn=None,\n",
            " shape=() )\n",
            "\n",
            "\n",
            "iter 351/1000\n",
            "loss: Tensor( 1.1826304766787337,\n",
            " requires_grad=True,\n",
            " grad_fn=None,\n",
            " shape=() )\n",
            "\n",
            "\n",
            "iter 401/1000\n",
            "loss: Tensor( 0.5691659785623391,\n",
            " requires_grad=True,\n",
            " grad_fn=None,\n",
            " shape=() )\n",
            "\n",
            "\n",
            "iter 451/1000\n",
            "loss: Tensor( 0.533763362424397,\n",
            " requires_grad=True,\n",
            " grad_fn=None,\n",
            " shape=() )\n",
            "\n",
            "\n",
            "iter 501/1000\n",
            "loss: Tensor( 0.4908209536368903,\n",
            " requires_grad=True,\n",
            " grad_fn=None,\n",
            " shape=() )\n",
            "\n",
            "\n",
            "iter 551/1000\n",
            "loss: Tensor( 0.46118566357883656,\n",
            " requires_grad=True,\n",
            " grad_fn=None,\n",
            " shape=() )\n",
            "\n",
            "\n",
            "iter 601/1000\n",
            "loss: Tensor( 0.4456823763445336,\n",
            " requires_grad=True,\n",
            " grad_fn=None,\n",
            " shape=() )\n",
            "\n",
            "\n",
            "iter 651/1000\n",
            "loss: Tensor( 0.4338407046830208,\n",
            " requires_grad=True,\n",
            " grad_fn=None,\n",
            " shape=() )\n",
            "\n",
            "\n",
            "iter 701/1000\n",
            "loss: Tensor( 0.4243086715986654,\n",
            " requires_grad=True,\n",
            " grad_fn=None,\n",
            " shape=() )\n",
            "\n",
            "\n",
            "iter 751/1000\n",
            "loss: Tensor( 0.41587005941931793,\n",
            " requires_grad=True,\n",
            " grad_fn=None,\n",
            " shape=() )\n",
            "\n",
            "\n",
            "iter 801/1000\n",
            "loss: Tensor( 0.4080509263842415,\n",
            " requires_grad=True,\n",
            " grad_fn=None,\n",
            " shape=() )\n",
            "\n",
            "\n",
            "iter 851/1000\n",
            "loss: Tensor( 0.4011971991101909,\n",
            " requires_grad=True,\n",
            " grad_fn=None,\n",
            " shape=() )\n",
            "\n",
            "\n",
            "iter 901/1000\n",
            "loss: Tensor( 0.39481660737264956,\n",
            " requires_grad=True,\n",
            " grad_fn=None,\n",
            " shape=() )\n",
            "\n",
            "\n",
            "iter 951/1000\n",
            "loss: Tensor( 0.3890352172132456,\n",
            " requires_grad=True,\n",
            " grad_fn=None,\n",
            " shape=() )\n",
            "\n",
            "\n"
          ]
        }
      ]
    },
    {
      "cell_type": "code",
      "source": [
        "plt.plot(np.arange(1, num_iter+1, 1), losses)"
      ],
      "metadata": {
        "colab": {
          "base_uri": "https://localhost:8080/",
          "height": 282
        },
        "id": "m7x417hMqRD-",
        "outputId": "7b9e42f8-75b9-40ca-8a0f-21f721637f95"
      },
      "execution_count": 8,
      "outputs": [
        {
          "output_type": "execute_result",
          "data": {
            "text/plain": [
              "[<matplotlib.lines.Line2D at 0x7fe8356ab9d0>]"
            ]
          },
          "metadata": {},
          "execution_count": 8
        },
        {
          "output_type": "display_data",
          "data": {
            "text/plain": [
              "<Figure size 432x288 with 1 Axes>"
            ],
            "image/png": "[encoded data removed]"
          },
          "metadata": {
            "needs_background": "light"
          }
        }
      ]
    },
    {
      "cell_type": "markdown",
      "source": [
        "Lots of oscillation in loss curve, need to add momentum to neograd asap :)"
      ],
      "metadata": {
        "id": "Vm6KC0KnrYQx"
      }
    },
    {
      "cell_type": "code",
      "source": [
        "with ng.NewGraph():\n",
        "  test_outputs = model(X_test)\n",
        "  preds = np.where(test_outputs.data>=0.5, 1, 0)"
      ],
      "metadata": {
        "id": "9K64ZO5QhDJe"
      },
      "execution_count": 9,
      "outputs": []
    },
    {
      "cell_type": "code",
      "source": [
        "classification_report(y_test.data.astype(int).flatten(), preds.flatten())"
      ],
      "metadata": {
        "colab": {
          "base_uri": "https://localhost:8080/",
          "height": 71
        },
        "id": "L5N3g809mvuj",
        "outputId": "83e6588a-b78c-4d75-a6e4-cec8a371edeb"
      },
      "execution_count": 10,
      "outputs": [
        {
          "output_type": "execute_result",
          "data": {
            "text/plain": [
              "'              precision    recall  f1-score   support\\n\\n           0       0.97      0.96      0.96       124\\n           1       0.96      0.97      0.96       126\\n\\n    accuracy                           0.96       250\\n   macro avg       0.96      0.96      0.96       250\\nweighted avg       0.96      0.96      0.96       250\\n'"
            ],
            "application/vnd.google.colaboratory.intrinsic+json": {
              "type": "string"
            }
          },
          "metadata": {},
          "execution_count": 10
        }
      ]
    },
    {
      "cell_type": "code",
      "source": [
        "accuracy_score(y_test.data.astype(int).flatten(), preds.flatten())"
      ],
      "metadata": {
        "colab": {
          "base_uri": "https://localhost:8080/"
        },
        "id": "XmGyjlSsnI5S",
        "outputId": "1bc2f3db-1c15-438f-e989-61114b0a4bdb"
      },
      "execution_count": 11,
      "outputs": [
        {
          "output_type": "execute_result",
          "data": {
            "text/plain": [
              "0.964"
            ]
          },
          "metadata": {},
          "execution_count": 11
        }
      ]
    },
    {
      "cell_type": "code",
      "source": [],
      "metadata": {
        "id": "NQJRs3KnoqFl"
      },
      "execution_count": 11,
      "outputs": []
    }
  ]
}