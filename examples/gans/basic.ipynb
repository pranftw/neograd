{
 "cells": [
  {
   "cell_type": "code",
   "execution_count": null,
   "id": "c6c3ad0d",
   "metadata": {},
   "outputs": [],
   "source": [
    "# Execute when running on Google Colab\n",
    "# !pip install neograd"
   ]
  },
  {
   "cell_type": "code",
   "execution_count": 1,
   "id": "929a2134",
   "metadata": {},
   "outputs": [
    {
     "name": "stdout",
     "output_type": "stream",
     "text": [
      "Requirement already satisfied: matplotlib in /Users/pranavsastry/Documents/py/neograd/tests/venv/lib/python3.10/site-packages (3.6.1)\n",
      "Requirement already satisfied: python-dateutil>=2.7 in /Users/pranavsastry/Documents/py/neograd/tests/venv/lib/python3.10/site-packages (from matplotlib) (2.8.2)\n",
      "Requirement already satisfied: pyparsing>=2.2.1 in /Users/pranavsastry/Documents/py/neograd/tests/venv/lib/python3.10/site-packages (from matplotlib) (3.0.9)\n",
      "Requirement already satisfied: fonttools>=4.22.0 in /Users/pranavsastry/Documents/py/neograd/tests/venv/lib/python3.10/site-packages (from matplotlib) (4.37.4)\n",
      "Requirement already satisfied: contourpy>=1.0.1 in /Users/pranavsastry/Documents/py/neograd/tests/venv/lib/python3.10/site-packages (from matplotlib) (1.0.5)\n",
      "Requirement already satisfied: cycler>=0.10 in /Users/pranavsastry/Documents/py/neograd/tests/venv/lib/python3.10/site-packages (from matplotlib) (0.11.0)\n",
      "Requirement already satisfied: pillow>=6.2.0 in /Users/pranavsastry/Documents/py/neograd/tests/venv/lib/python3.10/site-packages (from matplotlib) (9.2.0)\n",
      "Requirement already satisfied: packaging>=20.0 in /Users/pranavsastry/Documents/py/neograd/tests/venv/lib/python3.10/site-packages (from matplotlib) (21.3)\n",
      "Requirement already satisfied: kiwisolver>=1.0.1 in /Users/pranavsastry/Documents/py/neograd/tests/venv/lib/python3.10/site-packages (from matplotlib) (1.4.4)\n",
      "Requirement already satisfied: numpy>=1.19 in /Users/pranavsastry/Documents/py/neograd/tests/venv/lib/python3.10/site-packages (from matplotlib) (1.23.3)\n",
      "Requirement already satisfied: six>=1.5 in /Users/pranavsastry/Documents/py/neograd/tests/venv/lib/python3.10/site-packages (from python-dateutil>=2.7->matplotlib) (1.16.0)\n"
     ]
    }
   ],
   "source": [
    "# Execute when running locally\n",
    "import sys\n",
    "sys.path.append('../../tests')\n",
    "sys.path.append('../..')\n",
    "import _setup\n",
    "!pip install matplotlib\n",
    "import matplotlib.pyplot as plt"
   ]
  },
  {
   "cell_type": "code",
   "execution_count": 2,
   "id": "258eb756",
   "metadata": {},
   "outputs": [],
   "source": [
    "import neograd as ng\n",
    "from neograd import nn\n",
    "import numpy as np\n",
    "from neograd.nn.loss import BCE\n",
    "from neograd.nn.optim import Adam\n",
    "from neograd.nn.utils import get_batches\n",
    "from sklearn.datasets import load_digits"
   ]
  },
  {
   "cell_type": "code",
   "execution_count": 15,
   "id": "936558da",
   "metadata": {},
   "outputs": [],
   "source": [
    "X_train,_ = load_digits(return_X_y=True) # load data"
   ]
  },
  {
   "cell_type": "code",
   "execution_count": 16,
   "id": "41e85492",
   "metadata": {},
   "outputs": [],
   "source": [
    "num_train = X_train.shape[0] # number of train examples\n",
    "num_iter = 200 # number of iterations\n",
    "batch_size = 200 # batch size in each iteration\n",
    "print_interval = 50"
   ]
  },
  {
   "cell_type": "code",
   "execution_count": 17,
   "id": "6f711836",
   "metadata": {},
   "outputs": [],
   "source": [
    "# normalize inputs\n",
    "X_train_norm = (X_train - np.mean(X_train, axis=1, keepdims=True))/np.std(X_train, axis=1, keepdims=True)"
   ]
  },
  {
   "cell_type": "code",
   "execution_count": 18,
   "id": "70cf039c",
   "metadata": {},
   "outputs": [],
   "source": [
    "X_train = ng.tensor(X_train_norm)"
   ]
  },
  {
   "cell_type": "code",
   "execution_count": 19,
   "id": "d08db230",
   "metadata": {},
   "outputs": [],
   "source": [
    "class NN(nn.Model):\n",
    "    def __init__(self):\n",
    "        self.generator = nn.Sequential(\n",
    "            nn.Linear(64,50),\n",
    "            nn.LeakyReLU(),\n",
    "            nn.Linear(50,25),\n",
    "            nn.LeakyReLU(),\n",
    "            nn.Linear(25,64)\n",
    "        )\n",
    "        self.discriminator = nn.Sequential(\n",
    "            nn.Linear(64,50),\n",
    "            nn.LeakyReLU(),\n",
    "            nn.Linear(50,25),\n",
    "            nn.LeakyReLU(),\n",
    "            nn.Linear(25,1),\n",
    "            nn.Sigmoid()\n",
    "        )\n",
    "    \n",
    "    def forward(self, inputs):\n",
    "        noise = ng.tensor(np.random.randn(batch_size, 64))\n",
    "        generated = self.generator(noise)\n",
    "        discriminator_fake = self.discriminator(generated)\n",
    "        discriminator_real = self.discriminator(inputs)\n",
    "        return discriminator_fake, discriminator_real"
   ]
  },
  {
   "cell_type": "code",
   "execution_count": 20,
   "id": "9e55fab1",
   "metadata": {},
   "outputs": [],
   "source": [
    "model = NN()\n",
    "\n",
    "optim_generator = Adam(model.parameters(), 5e-3)\n",
    "optim_discriminator = Adam(model.parameters(), 5e-3)\n",
    "\n",
    "loss_fn = BCE()"
   ]
  },
  {
   "cell_type": "code",
   "execution_count": 21,
   "id": "7ab51a47",
   "metadata": {},
   "outputs": [],
   "source": [
    "def train_generator(discriminator_fake, discriminator_real):\n",
    "    optim_generator.zero_grad()\n",
    "    optim_discriminator.zero_grad()\n",
    "    loss_generator = loss_fn(discriminator_fake, ng.tensor(np.ones((discriminator_fake.shape[0],1))))\n",
    "    loss_generator.backward(retain_graph=True) # retain_graph is True to retain all components that lead to discriminator_fake\n",
    "    model.discriminator.freeze()\n",
    "    optim_generator.step()\n",
    "    model.discriminator.unfreeze()\n",
    "    return loss_generator.data"
   ]
  },
  {
   "cell_type": "code",
   "execution_count": 22,
   "id": "463782a6",
   "metadata": {},
   "outputs": [],
   "source": [
    "def train_discriminator(discriminator_fake, discriminator_real):\n",
    "    optim_generator.zero_grad(all_members=True)\n",
    "    optim_discriminator.zero_grad(all_members=True)\n",
    "    loss_real = loss_fn(discriminator_real, ng.tensor(np.ones((discriminator_real.shape[0],1))))\n",
    "    loss_real.backward(retain_graph=True)\n",
    "    loss_fake = loss_fn(discriminator_fake, ng.tensor(np.zeros((discriminator_fake.shape[0],1))))\n",
    "    loss_fake.backward()\n",
    "    model.generator.freeze()\n",
    "    optim_discriminator.step()\n",
    "    model.generator.unfreeze()\n",
    "    return (loss_real.data+loss_fake.data)/2"
   ]
  },
  {
   "cell_type": "code",
   "execution_count": 23,
   "id": "a374007e",
   "metadata": {},
   "outputs": [],
   "source": [
    "def train(discriminator_fake, discriminator_real):\n",
    "    loss_generator = train_generator(discriminator_fake, discriminator_real)\n",
    "    loss_discriminator = train_discriminator(discriminator_fake, discriminator_real)\n",
    "    return loss_generator, loss_discriminator"
   ]
  },
  {
   "cell_type": "code",
   "execution_count": 24,
   "id": "316d4bf8",
   "metadata": {},
   "outputs": [
    {
     "name": "stdout",
     "output_type": "stream",
     "text": [
      "\n",
      "Iter 1/200\n",
      "Generator loss: 20.72326583694641\n",
      "Discriminator loss: 5.463003851394125\n",
      "\n",
      "Iter 51/200\n",
      "Generator loss: 13.780971781234364\n",
      "Discriminator loss: 3.471147068638157\n",
      "\n",
      "Iter 101/200\n",
      "Generator loss: 19.479869886669626\n",
      "Discriminator loss: 0.6216979741383922\n",
      "\n",
      "Iter 151/200\n",
      "Generator loss: 0.3108489865691961\n",
      "Discriminator loss: 10.206208424188608\n"
     ]
    }
   ],
   "source": [
    "for i in range(num_iter):\n",
    "    for inputs_batch in get_batches(X_train, batch_size=batch_size):\n",
    "        discriminator_fake, discriminator_real = model(inputs_batch)\n",
    "        loss_generator, loss_discriminator = train(discriminator_fake, discriminator_real)\n",
    "    if i%print_interval==0:\n",
    "        print(f'\\nIter {i+1}/{num_iter}')\n",
    "        print(f'Generator loss: {loss_generator}')\n",
    "        print(f'Discriminator loss: {loss_discriminator}')"
   ]
  },
  {
   "cell_type": "code",
   "execution_count": 25,
   "id": "eb314ba2",
   "metadata": {},
   "outputs": [],
   "source": [
    "noise = ng.tensor(np.random.randn(1, 64))\n",
    "generated = model.generator(noise)"
   ]
  },
  {
   "cell_type": "code",
   "execution_count": 26,
   "id": "0f2811ad",
   "metadata": {},
   "outputs": [
    {
     "data": {
      "text/plain": [
       "<matplotlib.image.AxesImage at 0x168113160>"
      ]
     },
     "execution_count": 26,
     "metadata": {},
     "output_type": "execute_result"
    },
    {
     "data": {
      "image/png": "[encoded data removed]",
      "text/plain": [
       "<Figure size 640x480 with 1 Axes>"
      ]
     },
     "metadata": {},
     "output_type": "display_data"
    }
   ],
   "source": [
    "plt.imshow(generated.data.reshape(8,8), cmap='gray')"
   ]
  },
  {
   "cell_type": "code",
   "execution_count": null,
   "id": "aa23a311",
   "metadata": {},
   "outputs": [],
   "source": []
  }
 ],
 "metadata": {
  "kernelspec": {
   "display_name": "Python 3 (ipykernel)",
   "language": "python",
   "name": "python3"
  },
  "language_info": {
   "codemirror_mode": {
    "name": "ipython",
    "version": 3
   },
   "file_extension": ".py",
   "mimetype": "text/x-python",
   "name": "python",
   "nbconvert_exporter": "python",
   "pygments_lexer": "ipython3",
   "version": "3.10.8"
  }
 },
 "nbformat": 4,
 "nbformat_minor": 5
}
