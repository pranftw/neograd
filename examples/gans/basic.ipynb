{
 "cells": [
  {
   "cell_type": "code",
   "execution_count": null,
   "id": "c6c3ad0d",
   "metadata": {},
   "outputs": [],
   "source": [
    "# Execute when running on Google Colab\n",
    "# !pip install neograd"
   ]
  },
  {
   "cell_type": "code",
   "execution_count": 48,
   "id": "929a2134",
   "metadata": {},
   "outputs": [],
   "source": [
    "# Execute when running locally\n",
    "import sys\n",
    "sys.path.append('../../tests')\n",
    "import _setup"
   ]
  },
  {
   "cell_type": "code",
   "execution_count": 49,
   "id": "258eb756",
   "metadata": {},
   "outputs": [],
   "source": [
    "import neograd as ng\n",
    "import numpy as np\n",
    "from neograd.nn.loss import BCE\n",
    "from neograd.nn.optim import Adam\n",
    "from neograd.nn.utils import get_batches\n",
    "from sklearn.datasets import load_digits"
   ]
  },
  {
   "cell_type": "code",
   "execution_count": 50,
   "id": "936558da",
   "metadata": {},
   "outputs": [],
   "source": [
    "X_train,_ = load_digits(return_X_y=True) # load data"
   ]
  },
  {
   "cell_type": "code",
   "execution_count": 51,
   "id": "41e85492",
   "metadata": {},
   "outputs": [],
   "source": [
    "num_train = X_train.shape[0] # number of train examples\n",
    "num_iter = 200 # number of iterations\n",
    "batch_size = 200 # batch size in each iteration"
   ]
  },
  {
   "cell_type": "code",
   "execution_count": 52,
   "id": "6f711836",
   "metadata": {},
   "outputs": [],
   "source": [
    "# normalize inputs\n",
    "X_train_norm = (X_train - np.mean(X_train, axis=1, keepdims=True))/np.std(X_train, axis=1, keepdims=True)"
   ]
  },
  {
   "cell_type": "code",
   "execution_count": 53,
   "id": "70cf039c",
   "metadata": {},
   "outputs": [],
   "source": [
    "X_train = ng.tensor(X_train_norm)"
   ]
  },
  {
   "cell_type": "code",
   "execution_count": 54,
   "id": "d08db230",
   "metadata": {},
   "outputs": [],
   "source": [
    "class NN(ng.nn.Model):\n",
    "    def __init__(self):\n",
    "        self.generator = ng.nn.Sequential(\n",
    "            ng.nn.Linear(64,100),\n",
    "            ng.nn.ReLU(),\n",
    "            ng.nn.Linear(100,80),\n",
    "            ng.nn.ReLU(),\n",
    "            ng.nn.Linear(80,64)\n",
    "        )\n",
    "        self.discriminator = ng.nn.Sequential(\n",
    "            ng.nn.Linear(64,50),\n",
    "            ng.nn.ReLU(),\n",
    "            ng.nn.Linear(50,25),\n",
    "            ng.nn.ReLU(),\n",
    "            ng.nn.Linear(25,1),\n",
    "            ng.nn.Sigmoid()\n",
    "        )\n",
    "    \n",
    "    def forward(self, inputs):\n",
    "        noise = ng.tensor(np.random.randn(num_train, 64))\n",
    "        generated = self.generator(noise)\n",
    "        discriminator_fake = self.discriminator(generated)\n",
    "        discriminator_real = self.discriminator(inputs)\n",
    "        return discriminator_fake, discriminator_real"
   ]
  },
  {
   "cell_type": "code",
   "execution_count": 55,
   "id": "9e55fab1",
   "metadata": {},
   "outputs": [],
   "source": [
    "model = NN()\n",
    "\n",
    "model.discriminator.freeze()\n",
    "optim_generator = Adam(model.get_params(), 5e-3)\n",
    "model.discriminator.unfreeze()\n",
    "\n",
    "model.generator.freeze()\n",
    "optim_discriminator = Adam(model.get_params(), 5e-3)\n",
    "model.generator.freeze()\n",
    "\n",
    "loss_fn = BCE()"
   ]
  },
  {
   "cell_type": "code",
   "execution_count": 56,
   "id": "a374007e",
   "metadata": {},
   "outputs": [],
   "source": [
    "def train(discriminator_fake, discriminator_real):\n",
    "    optim_generator.zero_grad()\n",
    "    optim_discriminator.zero_grad()\n",
    "    loss_generator = loss_fn(discriminator_fake, ng.tensor(np.ones((num_train,1))))\n",
    "    loss_generator.backward(retain_graph=True) # retain_graph is True to retain all components that lead to discriminator_fake\n",
    "    optim_generator.step()\n",
    "\n",
    "    optim_generator.zero_grad()\n",
    "    optim_discriminator.zero_grad()\n",
    "    loss_real = loss_fn(discriminator_real, ng.tensor(np.ones((num_train,1))))\n",
    "    loss_fake = loss_fn(discriminator_fake, ng.tensor(np.zeros((num_train,1))))\n",
    "    loss_real.backward(retain_graph=True)\n",
    "    loss_fake.backward()\n",
    "    optim_discriminator.step()"
   ]
  },
  {
   "cell_type": "code",
   "execution_count": 57,
   "id": "4ee23e07",
   "metadata": {},
   "outputs": [],
   "source": [
    "discriminator_fake, discriminator_real = model(X_train)"
   ]
  },
  {
   "cell_type": "code",
   "execution_count": 58,
   "id": "cf3bb5cf",
   "metadata": {},
   "outputs": [],
   "source": [
    "train(discriminator_fake, discriminator_real)"
   ]
  },
  {
   "cell_type": "code",
   "execution_count": null,
   "id": "eb314ba2",
   "metadata": {},
   "outputs": [],
   "source": []
  }
 ],
 "metadata": {
  "kernelspec": {
   "display_name": "Python 3 (ipykernel)",
   "language": "python",
   "name": "python3"
  },
  "language_info": {
   "codemirror_mode": {
    "name": "ipython",
    "version": 3
   },
   "file_extension": ".py",
   "mimetype": "text/x-python",
   "name": "python",
   "nbconvert_exporter": "python",
   "pygments_lexer": "ipython3",
   "version": "3.10.0"
  }
 },
 "nbformat": 4,
 "nbformat_minor": 5
}
