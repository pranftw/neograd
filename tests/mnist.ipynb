{
 "cells": [
  {
   "cell_type": "code",
   "execution_count": 2,
   "id": "c8ccaace",
   "metadata": {},
   "outputs": [],
   "source": [
    "import _setup\n",
    "import neograd as ng\n",
    "import numpy as np\n",
    "from sklearn.datasets import load_digits\n",
    "from sklearn.model_selection import train_test_split\n",
    "from sklearn.metrics import classification_report, accuracy_score"
   ]
  },
  {
   "cell_type": "code",
   "execution_count": 3,
   "id": "5363375d",
   "metadata": {},
   "outputs": [],
   "source": [
    "X, y = load_digits(return_X_y=True)\n",
    "X_train, X_test, y_train, y_test = train_test_split(X, y)"
   ]
  },
  {
   "cell_type": "code",
   "execution_count": 4,
   "id": "36cd6a84",
   "metadata": {},
   "outputs": [
    {
     "name": "stdout",
     "output_type": "stream",
     "text": [
      "(1347, 64) (450, 64) (1347,) (450,)\n"
     ]
    }
   ],
   "source": [
    "print(X_train.shape, X_test.shape, y_train.shape, y_test.shape)"
   ]
  },
  {
   "cell_type": "code",
   "execution_count": 5,
   "id": "66e125f0",
   "metadata": {},
   "outputs": [],
   "source": [
    "num_train, num_test = 1347, 450"
   ]
  },
  {
   "cell_type": "code",
   "execution_count": 6,
   "id": "b35a2d99",
   "metadata": {},
   "outputs": [],
   "source": [
    "X_train = ng.tensor(X_train.T.reshape(8,8,num_train))\n",
    "X_test = ng.tensor(X_test.T.reshape(8,8,num_test))\n",
    "y_train = ng.tensor(y_train.reshape(1,num_train))\n",
    "y_test = ng.tensor(y_test.reshape(1,num_test))"
   ]
  },
  {
   "cell_type": "code",
   "execution_count": null,
   "id": "dddac408",
   "metadata": {},
   "outputs": [],
   "source": [
    "class NN(ng.nn.Model):\n",
    "    def __init__(self):\n",
    "        super().__init__(self)\n",
    "        self.stack"
   ]
  }
 ],
 "metadata": {
  "kernelspec": {
   "display_name": "Python 3 (ipykernel)",
   "language": "python",
   "name": "python3"
  },
  "language_info": {
   "codemirror_mode": {
    "name": "ipython",
    "version": 3
   },
   "file_extension": ".py",
   "mimetype": "text/x-python",
   "name": "python",
   "nbconvert_exporter": "python",
   "pygments_lexer": "ipython3",
   "version": "3.10.0"
  }
 },
 "nbformat": 4,
 "nbformat_minor": 5
}
